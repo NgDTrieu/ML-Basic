{
 "cells": [
  {
   "cell_type": "markdown",
   "id": "3c6f7b26",
   "metadata": {},
   "source": [
    "# Một ví dụ GD cho LR, so sánh nghiệm với dùng công thức\n",
    "Ở đây ta sử dụng hàm tuyến tính $y = 4x + 7$"
   ]
  },
  {
   "cell_type": "code",
   "execution_count": 35,
   "id": "0e5955cf",
   "metadata": {},
   "outputs": [],
   "source": [
    "import numpy as np\n",
    "import matplotlib.pyplot as plt"
   ]
  },
  {
   "cell_type": "markdown",
   "id": "7a7c64ae",
   "metadata": {},
   "source": [
    "### Khởi tạo dữ liệu"
   ]
  },
  {
   "cell_type": "code",
   "execution_count": 36,
   "id": "9cb8ad52",
   "metadata": {},
   "outputs": [
    {
     "name": "stdout",
     "output_type": "stream",
     "text": [
      "(1000, 1) (1000, 1)\n"
     ]
    },
    {
     "data": {
      "image/png": "[encoded data removed]",
      "text/plain": [
       "<Figure size 640x480 with 1 Axes>"
      ]
     },
     "metadata": {},
     "output_type": "display_data"
    }
   ],
   "source": [
    "X = np.random.rand(1000, 1)\n",
    "y = 4 * X + 7 + np.random.rand(1000, 1) * 0.2\n",
    "\n",
    "print(X.shape, y.shape)\n",
    "plt.plot(X, y, 'o')\n",
    "plt.show()"
   ]
  },
  {
   "cell_type": "markdown",
   "id": "26a01e06",
   "metadata": {},
   "source": [
    "### Tính toán nghiệm theo công thức nghiệm"
   ]
  },
  {
   "cell_type": "code",
   "execution_count": 37,
   "id": "8c51a4e5",
   "metadata": {},
   "outputs": [
    {
     "name": "stdout",
     "output_type": "stream",
     "text": [
      "[[7.1000475 ]\n",
      " [4.00012681]]\n"
     ]
    }
   ],
   "source": [
    "\n",
    "\n",
    "#Tạo Xbar\n",
    "one = np.ones((X.shape[0],1))\n",
    "Xbar = np.hstack((one, X))\n",
    "\n",
    "A = np.dot(Xbar.T, Xbar)\n",
    "b = np.dot(Xbar.T, y)\n",
    "w = np.dot(np.linalg.pinv(A), b)\n",
    "\n",
    "print(w)"
   ]
  },
  {
   "cell_type": "markdown",
   "id": "8a82d7fc",
   "metadata": {},
   "source": [
    "### Tính toán nghiệm theo GD\n",
    "$L(w) = \\dfrac{1}{2N}(y - \\bar{X}w)^2$"
   ]
  },
  {
   "cell_type": "code",
   "execution_count": 38,
   "id": "8c5c9e88",
   "metadata": {},
   "outputs": [],
   "source": [
    "def loss(w):\n",
    "    return 0.5 * ((y - np.dot(Xbar, w)) ** 2) / 1000\n",
    "\n",
    "def gradient(w):\n",
    "    return np.dot(Xbar.T, (np.dot(Xbar, w) - y)) / 1000\n",
    "\n",
    "def GD(w, learning_rate = 0.1, iterations = 1000):\n",
    "    ws = [w]\n",
    "    for i in range(iterations):\n",
    "        new_w = ws[-1] - learning_rate * gradient(ws[-1])\n",
    "        if np.linalg.norm(gradient(new_w)) < 1e-6:\n",
    "            break\n",
    "        ws.append(new_w)\n",
    "    return ws, i\n"
   ]
  },
  {
   "cell_type": "code",
   "execution_count": 39,
   "id": "03aa11ea",
   "metadata": {},
   "outputs": [
    {
     "name": "stdout",
     "output_type": "stream",
     "text": [
      "Iterations: 283\n",
      "[[7.10005436]\n",
      " [4.00011351]]\n"
     ]
    }
   ],
   "source": [
    "w0 = np.array([[0.0], [0.0]])\n",
    "\n",
    "ws, iterations = GD(w0, learning_rate=0.5, iterations=1000)\n",
    "print(f\"Iterations: {iterations}\")  \n",
    "print(ws[-1])\n"
   ]
  },
  {
   "cell_type": "markdown",
   "id": "59481b40",
   "metadata": {},
   "source": [
    "GD đặt được nghiệm sát với nghiệm được tính toán theo công thức"
   ]
  },
  {
   "cell_type": "code",
   "execution_count": 40,
   "id": "5ce9ed8e",
   "metadata": {},
   "outputs": [
    {
     "data": {
      "text/plain": [
       "True"
      ]
     },
     "execution_count": 40,
     "metadata": {},
     "output_type": "execute_result"
    }
   ],
   "source": [
    "def check(w1, w2):\n",
    "    return np.linalg.norm(w1 - w2) < 1e-3\n",
    "\n",
    "check(w, ws[-1])  # True if GD converged to the same solution as the closed-form solution"
   ]
  }
 ],
 "metadata": {
  "kernelspec": {
   "display_name": "Python 3",
   "language": "python",
   "name": "python3"
  },
  "language_info": {
   "codemirror_mode": {
    "name": "ipython",
    "version": 3
   },
   "file_extension": ".py",
   "mimetype": "text/x-python",
   "name": "python",
   "nbconvert_exporter": "python",
   "pygments_lexer": "ipython3",
   "version": "3.12.6"
  }
 },
 "nbformat": 4,
 "nbformat_minor": 5
}
