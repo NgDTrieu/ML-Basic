{
 "cells": [
  {
   "cell_type": "markdown",
   "id": "3b5dfd24",
   "metadata": {},
   "source": [
    "# Ví dụ sử dụng KNN cho MNIST"
   ]
  },
  {
   "cell_type": "code",
   "execution_count": 1,
   "id": "8c7d6ffd",
   "metadata": {},
   "outputs": [],
   "source": [
    "import numpy as np\n",
    "from mnist import MNIST\n",
    "import matplotlib.pyplot as plt\n",
    "from sklearn import neighbors\n",
    "from sklearn.metrics import accuracy_score\n",
    "import time"
   ]
  },
  {
   "cell_type": "markdown",
   "id": "9bb74f3c",
   "metadata": {},
   "source": [
    "### Load data\n"
   ]
  },
  {
   "cell_type": "code",
   "execution_count": 2,
   "id": "e7dff2b0",
   "metadata": {},
   "outputs": [],
   "source": [
    "mndata = MNIST('../../Data/mnist/')\n",
    "mndata.load_training()\n",
    "mndata.load_testing()\n",
    "X_train = mndata.train_images\n",
    "y_train = mndata.train_labels   \n",
    "X_test = np.asarray(mndata.test_images)\n",
    "y_test = np.asarray(mndata.test_labels)\n"
   ]
  },
  {
   "cell_type": "code",
   "execution_count": null,
   "id": "e8cb8e08",
   "metadata": {},
   "outputs": [],
   "source": []
  },
  {
   "cell_type": "markdown",
   "id": "c5b5a561",
   "metadata": {},
   "source": [
    "### Train and predict"
   ]
  },
  {
   "cell_type": "code",
   "execution_count": 3,
   "id": "1fe2d5c7",
   "metadata": {},
   "outputs": [
    {
     "name": "stdout",
     "output_type": "stream",
     "text": [
      "Time taken: 40.45 seconds\n",
      "Accuracy: 96.91 %\n"
     ]
    }
   ],
   "source": [
    "start_time = time.time()\n",
    "clf = neighbors.KNeighborsClassifier(n_neighbors=1, weights='distance')\n",
    "clf.fit(X_train, y_train)\n",
    "y_pred = clf.predict(X_test)\n",
    "end_time = time.time()\n",
    "\n",
    "print('Time taken: %.2f seconds' % (end_time - start_time)) \n",
    "print('Accuracy: %.2f %%' % (100 * accuracy_score(y_test, y_pred)))"
   ]
  }
 ],
 "metadata": {
  "kernelspec": {
   "display_name": "Python 3",
   "language": "python",
   "name": "python3"
  },
  "language_info": {
   "codemirror_mode": {
    "name": "ipython",
    "version": 3
   },
   "file_extension": ".py",
   "mimetype": "text/x-python",
   "name": "python",
   "nbconvert_exporter": "python",
   "pygments_lexer": "ipython3",
   "version": "3.12.6"
  }
 },
 "nbformat": 4,
 "nbformat_minor": 5
}
