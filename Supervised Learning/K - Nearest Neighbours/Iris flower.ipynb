{
 "cells": [
  {
   "cell_type": "markdown",
   "id": "7eb7e8d0",
   "metadata": {},
   "source": [
    "# Ví dụ về KNN với bộ dữ liệu hoa Iris\n",
    "Bộ dữ liệu này bao gồm thông tin của ba loại hoa Iris (một loài hoa lan) khác nhau: Iris setosa, Iris virginica và Iris versicolor. Mỗi loại có 50 bông hoa được đo với dữ liệu là 4 thông tin: chiều dài, chiều rộng đài hoa (sepal), và chiều dài, chiều rộng cánh hoa (petal). (Chú ý, đây không phải là bộ cơ sở dữ liệu ảnh như MNIST, mỗi điểm dữ liệu trong tập này chỉ là một vector 4 chiều)."
   ]
  }
 ],
 "metadata": {
  "language_info": {
   "name": "python"
  }
 },
 "nbformat": 4,
 "nbformat_minor": 5
}
