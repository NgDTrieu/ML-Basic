{
 "cells": [
  {
   "cell_type": "markdown",
   "id": "7eb7e8d0",
   "metadata": {},
   "source": [
    "# Ví dụ về KNN với bộ dữ liệu hoa Iris\n",
    "Bộ dữ liệu này bao gồm thông tin của ba loại hoa Iris (một loài hoa lan) khác nhau: Iris setosa, Iris virginica và Iris versicolor. Mỗi loại có 50 bông hoa được đo với dữ liệu là 4 thông tin: chiều dài, chiều rộng đài hoa (sepal), và chiều dài, chiều rộng cánh hoa (petal). (Chú ý, đây không phải là bộ cơ sở dữ liệu ảnh như MNIST, mỗi điểm dữ liệu trong tập này chỉ là một vector 4 chiều)."
   ]
  },
  {
   "cell_type": "code",
   "execution_count": 1,
   "id": "a2590795",
   "metadata": {},
   "outputs": [],
   "source": [
    "import numpy as np \n",
    "import matplotlib.pyplot as plt\n",
    "from sklearn import neighbors, datasets"
   ]
  },
  {
   "cell_type": "markdown",
   "id": "2a0b7c3a",
   "metadata": {},
   "source": [
    "### Load dữ liệu\n"
   ]
  },
  {
   "cell_type": "code",
   "execution_count": null,
   "id": "d43924fb",
   "metadata": {},
   "outputs": [
    {
     "name": "stdout",
     "output_type": "stream",
     "text": [
      "number of classes: 3\n",
      "number of data points: 150\n",
      "\n",
      " Sample of class 0:\n",
      " [[5.1 3.5 1.4 0.2]\n",
      " [4.9 3.  1.4 0.2]\n",
      " [4.7 3.2 1.3 0.2]\n",
      " [4.6 3.1 1.5 0.2]\n",
      " [5.  3.6 1.4 0.2]]\n"
     ]
    }
   ],
   "source": [
    "iris = datasets.load_iris()\n",
    "iris_X = iris.data\n",
    "iris_y = iris.target\n",
    "\n",
    "print('number of classes:', len(np.unique(iris_y)))\n",
    "print('number of data points:', len(iris_y))\n",
    "\n",
    "X0 = iris_X[iris_y == 0]\n",
    "print('\\n Sample of class 0:\\n', X0[:5])\n",
    "\n",
    "X1 = iris_X[iris_y == 1]\n",
    "print('\\n Sample of class 1:\\n', X1[:5])    \n",
    "\n",
    "X2 = iris_X[iris_y == 2]\n",
    "print('\\n Sample of class 2:\\n', X2[:5])"
   ]
  },
  {
   "cell_type": "markdown",
   "id": "97deddb1",
   "metadata": {},
   "source": [
    "### Tách training và test sets\n",
    "Giả sử chúng ta muốn dùng 50 điểm dữ liệu cho test set, 100 điểm còn lại cho training set. Scikit-learn có một hàm số cho phép chúng ta ngẫu nhiên lựa chọn các điểm này."
   ]
  },
  {
   "cell_type": "code",
   "execution_count": 8,
   "id": "54ecfb8f",
   "metadata": {},
   "outputs": [
    {
     "name": "stdout",
     "output_type": "stream",
     "text": [
      "Train set size: 100\n",
      "Test set size: 50\n"
     ]
    }
   ],
   "source": [
    "from sklearn.model_selection import train_test_split\n",
    "\n",
    "X_train, X_test, y_train, y_test = train_test_split(iris_X, iris_y, test_size=50, random_state = 17)\n",
    "\n",
    "print('Train set size:', len(y_train))\n",
    "print('Test set size:', len(y_test))"
   ]
  },
  {
   "cell_type": "code",
   "execution_count": 10,
   "id": "580152c2",
   "metadata": {},
   "outputs": [
    {
     "name": "stdout",
     "output_type": "stream",
     "text": [
      "Print results for the first 20 test points:\n",
      "Predicted: [1 0 2 1 1 1 1 1 0 1 0 1 0 0 1 1 1 2 1 0]\n",
      "Actual:    [2 0 2 1 1 1 1 1 0 1 0 1 0 0 1 1 1 2 1 0]\n"
     ]
    }
   ],
   "source": [
    "clf = neighbors.KNeighborsClassifier(n_neighbors=1, weights='uniform', algorithm='auto')\n",
    "clf.fit(X_train, y_train)\n",
    "y_pred = clf.predict(X_test)\n",
    "\n",
    "print('Print results for the first 20 test points:')\n",
    "print('Predicted:', y_pred[20:40])\n",
    "print('Actual:   ', y_test[20:40])"
   ]
  },
  {
   "cell_type": "markdown",
   "id": "605503ce",
   "metadata": {},
   "source": [
    "### Đánh giá"
   ]
  },
  {
   "cell_type": "code",
   "execution_count": 13,
   "id": "9d090dee",
   "metadata": {},
   "outputs": [
    {
     "name": "stdout",
     "output_type": "stream",
     "text": [
      "Accuracy: 96.00 %\n"
     ]
    }
   ],
   "source": [
    "from sklearn.metrics import accuracy_score\n",
    "print('Accuracy: %.2f %%' %(100*accuracy_score(y_test, y_pred)))"
   ]
  },
  {
   "cell_type": "markdown",
   "id": "c73cc764",
   "metadata": {},
   "source": [
    "Có thể đổi số lượng neighbors, weights ở thuật toán và đưa ra các kết quả đánh giá khác"
   ]
  }
 ],
 "metadata": {
  "kernelspec": {
   "display_name": "Python 3",
   "language": "python",
   "name": "python3"
  },
  "language_info": {
   "codemirror_mode": {
    "name": "ipython",
    "version": 3
   },
   "file_extension": ".py",
   "mimetype": "text/x-python",
   "name": "python",
   "nbconvert_exporter": "python",
   "pygments_lexer": "ipython3",
   "version": "3.12.6"
  }
 },
 "nbformat": 4,
 "nbformat_minor": 5
}
